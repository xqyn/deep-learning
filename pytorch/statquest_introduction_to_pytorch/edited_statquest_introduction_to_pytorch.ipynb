{
  "cells": [
    {
      "cell_type": "markdown",
      "metadata": {
        "id": "view-in-github",
        "colab_type": "text"
      },
      "source": [
        "<a href=\"https://colab.research.google.com/github/xqyn/deep-learning/blob/main/pytorch/statquest_introduction_to_pytorch/edited_statquest_introduction_to_pytorch.ipynb\" target=\"_parent\"><img src=\"https://colab.research.google.com/assets/colab-badge.svg\" alt=\"Open In Colab\"/></a>"
      ]
    },
    {
      "cell_type": "markdown",
      "id": "tracked-telescope",
      "metadata": {
        "id": "tracked-telescope"
      },
      "source": [
        "# The StatQuest Introduction to PyTorch!!!\n",
        "## Sponsored by...\n",
        "[<img src=\"https://github.com/xqyn/deep-learning/blob/main/pytorch/statquest_introduction_to_pytorch/images/PytorchLightningLogo@4x.png?raw=1\" alt=\"Lightning\" style=\"width: 400px;\">](https://www.pytorchlightning.ai/)\n",
        "&nbsp;&nbsp;&nbsp;&nbsp; <img src=\"https://github.com/xqyn/deep-learning/blob/main/pytorch/statquest_introduction_to_pytorch/images/VerticalRule@4x.png?raw=1\" style=\"height: 100px;\"> &nbsp;&nbsp;&nbsp;&nbsp;\n",
        "[<img src=\"https://github.com/xqyn/deep-learning/blob/main/pytorch/statquest_introduction_to_pytorch/images/Grid_Logo@4x.png?raw=1\" alt=\"Grid\" style=\"width: 400px;\">](https://www.grid.ai/)\n",
        "\n",
        "Copyright 2022, Joshua Starmer"
      ]
    },
    {
      "cell_type": "markdown",
      "id": "corrected-narrow",
      "metadata": {
        "id": "corrected-narrow"
      },
      "source": [
        "----\n",
        "**NOTE:** This tutorial is from StatQuest's **[A Gentle Introduction to PyTorch]()**.\n",
        "\n",
        "In this tutorial, we will use **[PyTorch](https://pytorch.org/)** to create, draw the output from, and optimize the super simple **neural network** featured in  StatQuest's **[Neural Networks Part 3: ReLU in Action!!!](https://youtu.be/68BZ5f7P94E)** This simple neural network, seen below, predicts whether or not a drug dose will be effective.\n",
        "<!-- <img src=\"./xgboost_tree.png\" alt=\"An XGBoost Tree\" style=\"width: 600px;\"> -->\n",
        "<img src=\"https://github.com/xqyn/deep-learning/blob/main/pytorch/statquest_introduction_to_pytorch/images/simple_relu.001.png?raw=1\" alt=\"A simple Neural Network\" style=\"width: 1620px;\">\n",
        "\n",
        "The training data (below) that the neural network is fit to consist of three data points for three different drug doses. Low (**0**) and high (**1**) doses do not cure a disease, so their y-axis values are both **0**. However, when the dose is **0.5**, that dose can cure the disease, and the corresponding y-axis value is **1**.\n",
        "\n",
        "<img src=\"https://github.com/xqyn/deep-learning/blob/main/pytorch/statquest_introduction_to_pytorch/images/training_data_500x275.png?raw=1\" alt=\"A simple Neural Network\" style=\"width: 250px;\">\n",
        "\n",
        "Below, we see the output of the neural network for different doses, and it fits the training data well!\n",
        "\n",
        "<img src=\"https://github.com/xqyn/deep-learning/blob/main/pytorch/statquest_introduction_to_pytorch/images/training_data_with_bent_shape_500x275.png?raw=1\" alt=\"A simple Neural Network\" style=\"width: 250px;\">\n",
        "\n",
        "\n",
        "In this tutorial, you will...\n",
        "\n",
        "- **[Build a Simple Neural Network in PyTorch](#build)**\n",
        "\n",
        "- **[Use the Neural Network and Graph the Output](#using)**\n",
        "\n",
        "- **[Optimize (Train) a Parameter in the Neural Network and Graph the Output](#train)**\n",
        "\n",
        "#### NOTE:\n",
        "This tutorial assumes that you already know the basics of coding in **Python** and are familiar with the theory behind **[Neural Networks](https://youtu.be/CqOfi41LfDw)**, **[Backpropagation](https://youtu.be/IN2XmBhILt4)**, the **[ReLU Activation Function](https://youtu.be/68BZ5f7P94E)**, **[Gradient Descent](https://youtu.be/sDv4f4s2SB8)**, and **[Stochastic Gradient Descent](https://youtu.be/vMh0zPT0tLI)**. If not, check out the **'Quests** by clicking on the links for each topic.\n",
        "\n",
        "#### ALSO NOTE:\n",
        "I strongly encourage you to play around with the code. Playing with the code is the best way to learn from it."
      ]
    },
    {
      "cell_type": "markdown",
      "id": "identical-statement",
      "metadata": {
        "id": "identical-statement"
      },
      "source": [
        "-----"
      ]
    },
    {
      "cell_type": "markdown",
      "id": "nervous-maldives",
      "metadata": {
        "id": "nervous-maldives"
      },
      "source": [
        "# Import the modules that will do all the work\n",
        "The very first thing we need to do is load a bunch of Python modules. Python itself is just a basic programming language. These modules give us extra functionality to create a neural network, use and graph the output for various input values, and optimize the neural network's parameters.\n",
        "\n",
        "**NOTE:** You will need **Python 3** and have at least these versions for each of the following modules: \n",
        "- pytorch >= 1.10.1\n",
        "- matplotlib >= 3.3.4\n",
        "- seaborn >= 0.11.0 \n",
        "\n",
        "### If you installed **Python 3** with [Anaconda](https://www.anaconda.com/)...\n",
        "...then you can check which versions of each package you have with the command: `conda list`. If, for example, your version of `matplotlib` is older than **3.3.4**, then the easiest thing to do is just update all of your Anaconda packages with the following command: `conda update --all`. However, if you only want to update `matplotlib`, then you can run this command: `conda install matplotlib=3.3.4`.\n",
        "\n",
        "### If you need to install **PyTorch**...\n",
        "...then the easiest thing to do is follow the instructions on the [PyTorch website](https://pytorch.org/get-started/locally/).\n",
        "\n",
        "### If you need to install **seaborn**...\n",
        "...then the easiest thing to do is follow the instructions on the [seaborn website](https://seaborn.pydata.org/installing.html)."
      ]
    },
    {
      "cell_type": "code",
      "execution_count": 1,
      "id": "unavailable-antigua",
      "metadata": {
        "id": "unavailable-antigua"
      },
      "outputs": [],
      "source": [
        "## NOTE: Even though we use the PyTorch module, we import it with the name 'torch', which was the original name.\n",
        "import torch # torch provides basic functions, from setting a random seed (for reproducability) to creating tensors.\n",
        "import torch.nn as nn # torch.nn allows us to create a neural network.\n",
        "import torch.nn.functional as F # nn.functional give us access to the activation and loss functions.\n",
        "from torch.optim import SGD # optim contains many optimizers. Here, we're using SGD, stochastic gradient descent.\n",
        "\n",
        "import matplotlib.pyplot as plt ## matplotlib allows us to draw graphs.\n",
        "import seaborn as sns ## seaborn makes it easier to draw nice-looking graphs."
      ]
    },
    {
      "cell_type": "markdown",
      "id": "international-blame",
      "metadata": {
        "id": "international-blame"
      },
      "source": [
        "-----"
      ]
    },
    {
      "cell_type": "markdown",
      "id": "attached-snowboard",
      "metadata": {
        "id": "attached-snowboard"
      },
      "source": [
        "<a id=\"build\"></a>\n",
        "# Build a Simple Neural Network in PyTorch\n",
        "\n",
        "Building a neural network in **PyTorch** means creating a new class with two methods: `__init__()` and `forward()`. The `__init__()` method defines and initializes all of the parameters that we want to use, and the `forward()` method tells **PyTorch** what should happen during a forward pass through the neural network."
      ]
    },
    {
      "cell_type": "code",
      "execution_count": 2,
      "id": "greenhouse-scratch",
      "metadata": {
        "id": "greenhouse-scratch"
      },
      "outputs": [],
      "source": [
        "## create a neural network class by creating a class that inherits from nn.Module.\n",
        "class BasicNN(nn.Module):\n",
        "\n",
        "    def __init__(self): # __init__() is the class constructor function, and we use it to initialize the weights and biases.\n",
        "        \n",
        "        super().__init__() # initialize an instance of the parent class, nn.Model.\n",
        "        \n",
        "        ## Now create the weights and biases that we need for our neural network.\n",
        "        ## Each weight or bias is an nn.Parameter, which gives us the option to optimize the parameter by setting\n",
        "        ## requires_grad, which is short for \"requires gradient\", to True. Since we don't need to optimize any of these\n",
        "        ## parameters now, we set requires_grad=False.\n",
        "        ##\n",
        "        ## NOTE: Because our neural network is already fit to the data, we will input specific values\n",
        "        ## for each weight and bias. In contrast, if we had not already fit the neural network to the data,\n",
        "        ## we might start with a random initalization of the weights and biases.\n",
        "        self.w00 = nn.Parameter(torch.tensor(1.7), requires_grad=False)\n",
        "        self.b00 = nn.Parameter(torch.tensor(-0.85), requires_grad=False)\n",
        "        self.w01 = nn.Parameter(torch.tensor(-40.8), requires_grad=False)\n",
        "        \n",
        "        self.w10 = nn.Parameter(torch.tensor(12.6), requires_grad=False)\n",
        "        self.b10 = nn.Parameter(torch.tensor(0.0), requires_grad=False)\n",
        "        self.w11 = nn.Parameter(torch.tensor(2.7), requires_grad=False)\n",
        "\n",
        "        self.final_bias = nn.Parameter(torch.tensor(-16.), requires_grad=False)\n",
        "        \n",
        "        \n",
        "    def forward(self, input): ## forward() takes an input value and runs it though the neural network \n",
        "                              ## illustrated at the top of this notebook. \n",
        "        \n",
        "        ## the next three lines implement the top of the neural network (using the top node in the hidden layer).\n",
        "        input_to_top_relu = input * self.w00 + self.b00\n",
        "        top_relu_output = F.relu(input_to_top_relu)\n",
        "        scaled_top_relu_output = top_relu_output * self.w01\n",
        "        \n",
        "        ## the next three lines implement the bottom of the neural network (using the bottom node in the hidden layer).\n",
        "        input_to_bottom_relu = input * self.w10 + self.b10\n",
        "        bottom_relu_output = F.relu(input_to_bottom_relu)\n",
        "        scaled_bottom_relu_output = bottom_relu_output * self.w11\n",
        "        \n",
        "        ## here, we combine both the top and bottom nodes from the hidden layer with the final bias.\n",
        "        input_to_final_relu = scaled_top_relu_output + scaled_bottom_relu_output + self.final_bias\n",
        "        \n",
        "        output = F.relu(input_to_final_relu)\n",
        "    \n",
        "        return output # output is the predicted effectiveness for a drug dose."
      ]
    },
    {
      "cell_type": "markdown",
      "id": "bigger-patrick",
      "metadata": {
        "id": "bigger-patrick"
      },
      "source": [
        "Once we have created the class that defines the neural network, we can create an actual neural network and print out its parameters, just to make sure things are what we expect."
      ]
    },
    {
      "cell_type": "code",
      "execution_count": 3,
      "id": "described-needle",
      "metadata": {
        "id": "described-needle",
        "outputId": "0e1c5652-6a10-42ed-b8fb-d6180d3ce2b9",
        "colab": {
          "base_uri": "https://localhost:8080/"
        }
      },
      "outputs": [
        {
          "output_type": "stream",
          "name": "stdout",
          "text": [
            "w00 tensor(1.7000)\n",
            "b00 tensor(-0.8500)\n",
            "w01 tensor(-40.8000)\n",
            "w10 tensor(12.6000)\n",
            "b10 tensor(0.)\n",
            "w11 tensor(2.7000)\n",
            "final_bias tensor(-16.)\n"
          ]
        }
      ],
      "source": [
        "## create the neural network. \n",
        "model = BasicNN()\n",
        "\n",
        "## print out the name and value for each parameter\n",
        "for name, param in model.named_parameters():\n",
        "    print(name, param.data)"
      ]
    },
    {
      "cell_type": "markdown",
      "id": "acoustic-norman",
      "metadata": {
        "id": "acoustic-norman"
      },
      "source": [
        "## BAM!!!\n",
        "The values for each weight and bias in `BasicNN` match the values we see in the optimized neural network (below).\n",
        "<img src=\"https://github.com/xqyn/deep-learning/blob/main/pytorch/statquest_introduction_to_pytorch/images/simple_relu.001.png?raw=1\" alt=\"A simple Neural Network\" style=\"width: 810px;\">"
      ]
    },
    {
      "cell_type": "markdown",
      "id": "treated-outreach",
      "metadata": {
        "id": "treated-outreach"
      },
      "source": [
        "-----"
      ]
    },
    {
      "cell_type": "markdown",
      "id": "powerful-cabin",
      "metadata": {
        "id": "powerful-cabin"
      },
      "source": [
        "<a id=\"using\"></a>\n",
        "# Use the Neural Network and Graph the Output\n",
        "\n",
        "Now that we have a neural network, we can use it on a variety of doses to determine which will be effective. Then we can make a graph of these data, and this graph should match the green bent shape fit to the training data that's shown at the top of this document. So, let's start by making a sequence of input doses..."
      ]
    },
    {
      "cell_type": "code",
      "execution_count": 4,
      "id": "passing-parts",
      "metadata": {
        "id": "passing-parts",
        "outputId": "b5c4499a-96fb-43d1-9fe2-5a3cf7a8ecba",
        "colab": {
          "base_uri": "https://localhost:8080/"
        }
      },
      "outputs": [
        {
          "output_type": "execute_result",
          "data": {
            "text/plain": [
              "tensor([0.0000, 0.1000, 0.2000, 0.3000, 0.4000, 0.5000, 0.6000, 0.7000, 0.8000,\n",
              "        0.9000, 1.0000])"
            ]
          },
          "metadata": {},
          "execution_count": 4
        }
      ],
      "source": [
        "## now create the different doses we want to run through the neural network.\n",
        "## torch.linspace() creates the sequence of numbers between, and including, 0 and 1.\n",
        "input_doses = torch.linspace(start=0, end=1, steps=11)\n",
        "\n",
        "# now print out the doses to make sure they are what we expect...\n",
        "input_doses"
      ]
    },
    {
      "cell_type": "markdown",
      "id": "eleven-writing",
      "metadata": {
        "id": "eleven-writing"
      },
      "source": [
        "Now that we have `input_doses`, let's run them through the neural network and graph the output..."
      ]
    },
    {
      "cell_type": "code",
      "execution_count": 5,
      "id": "engaging-fraction",
      "metadata": {
        "id": "engaging-fraction",
        "outputId": "09d1c799-7df8-4be4-e920-c94c65ed9b5a",
        "colab": {
          "base_uri": "https://localhost:8080/",
          "height": 302
        }
      },
      "outputs": [
        {
          "output_type": "execute_result",
          "data": {
            "text/plain": [
              "Text(0.5, 0, 'Dose')"
            ]
          },
          "metadata": {},
          "execution_count": 5
        },
        {
          "output_type": "display_data",
          "data": {
            "text/plain": [
              "<Figure size 432x288 with 1 Axes>"
            ],
            "image/png": "[encoded data removed]"
          },
          "metadata": {}
        }
      ],
      "source": [
        "## create the neural network. \n",
        "model = BasicNN() \n",
        "\n",
        "## now run the different doses through the neural network.\n",
        "output_values = model(input_doses)\n",
        "\n",
        "## Now draw a graph that shows the effectiveness for each dose.\n",
        "##\n",
        "## First, set the style for seaborn so that the graph looks cool.\n",
        "sns.set(style=\"whitegrid\")\n",
        "\n",
        "## create the graph (you might not see it at this point, but you will after we save it as a PDF).\n",
        "sns.lineplot(x=input_doses, \n",
        "             y=output_values, \n",
        "             color='green', \n",
        "             linewidth=2.5)\n",
        "\n",
        "## now label the y- and x-axes.\n",
        "plt.ylabel('Effectiveness')\n",
        "plt.xlabel('Dose')\n",
        "\n",
        "## optionally, save the graph as a PDF.\n",
        "# plt.savefig('BasicNN.pdf')"
      ]
    },
    {
      "cell_type": "markdown",
      "id": "alleged-arthur",
      "metadata": {
        "id": "alleged-arthur"
      },
      "source": [
        "The graph shows that the neural network fits the training data. In other words, so far, we don't have any bugs in our code.\n",
        "# Double BAM!!!"
      ]
    },
    {
      "cell_type": "markdown",
      "id": "encouraging-rocket",
      "metadata": {
        "id": "encouraging-rocket"
      },
      "source": [
        "-----"
      ]
    },
    {
      "cell_type": "markdown",
      "id": "wrapped-tension",
      "metadata": {
        "id": "wrapped-tension"
      },
      "source": [
        "<a id=\"train\"></a>\n",
        "# Optimize (Train) a Parameter in the Neural Network and Graph the Output\n",
        "\n",
        "Now that we know how to create and use a simple neural network, and we can graph the output relative to the input, let's see how to train a neural network. The first thing we need to do is tell **PyTorch** which parameter (or parameters) we want to train, and we do that by setting `requires_grad=True`. In this example, we'll train `final_bias`."
      ]
    },
    {
      "cell_type": "code",
      "execution_count": 6,
      "id": "academic-little",
      "metadata": {
        "id": "academic-little"
      },
      "outputs": [],
      "source": [
        "## create a neural network by creating a class that inherits from nn.Module.\n",
        "## NOTE: This code is the same as before, except we changed the class name to BasicNN_train and we modified \n",
        "##       final_bias in two ways:\n",
        "##       1) we set the value of the tensor to 0, and\n",
        "##       2) we set \"requires_grad=True\".\n",
        "class BasicNN_train(nn.Module):\n",
        "\n",
        "    def __init__(self): # __init__ is the class constructor function, and we use it to initialize the weights and biases.\n",
        "        \n",
        "        super().__init__() # initialize an instance of the parent class, nn.Module.\n",
        "        \n",
        "        self.w00 = nn.Parameter(torch.tensor(1.7), requires_grad=False)\n",
        "        self.b00 = nn.Parameter(torch.tensor(-0.85), requires_grad=False)\n",
        "        self.w01 = nn.Parameter(torch.tensor(-40.8), requires_grad=False)\n",
        "        \n",
        "        self.w10 = nn.Parameter(torch.tensor(12.6), requires_grad=False)\n",
        "        self.b10 = nn.Parameter(torch.tensor(0.0), requires_grad=False)\n",
        "        self.w11 = nn.Parameter(torch.tensor(2.7), requires_grad=False)\n",
        "\n",
        "        ## we want to modify final_bias to demonstrate how to optimize it with backpropagation.\n",
        "        ## The optimal value for final_bias is -16...\n",
        "#         self.final_bias = nn.Parameter(torch.tensor(-16.), requires_grad=False)\n",
        "        ## ...so we set it to 0 and tell Pytorch that it now needs to calculate the gradient for this parameter.\n",
        "        self.final_bias = nn.Parameter(torch.tensor(0.), requires_grad=True) \n",
        "        \n",
        "    def forward(self, input):\n",
        "        \n",
        "        input_to_top_relu = input * self.w00 + self.b00\n",
        "        top_relu_output = F.relu(input_to_top_relu)\n",
        "        scaled_top_relu_output = top_relu_output * self.w01\n",
        "        \n",
        "        input_to_bottom_relu = input * self.w10 + self.b10\n",
        "        bottom_relu_output = F.relu(input_to_bottom_relu)\n",
        "        scaled_bottom_relu_output = bottom_relu_output * self.w11\n",
        "    \n",
        "        input_to_final_relu = scaled_top_relu_output + scaled_bottom_relu_output + self.final_bias\n",
        "        \n",
        "        output = F.relu(input_to_final_relu)\n",
        "        \n",
        "        return output"
      ]
    },
    {
      "cell_type": "markdown",
      "id": "blank-prime",
      "metadata": {
        "id": "blank-prime"
      },
      "source": [
        "Now let's graph the output of `BasicNN_train`, which is currently not optimized, and compare it to the graph we drew earlier of the optimized neural network."
      ]
    },
    {
      "cell_type": "code",
      "execution_count": 7,
      "id": "dying-sandwich",
      "metadata": {
        "id": "dying-sandwich",
        "outputId": "e58408bb-dd4a-480f-cfc8-5cee22156561",
        "colab": {
          "base_uri": "https://localhost:8080/",
          "height": 302
        }
      },
      "outputs": [
        {
          "output_type": "execute_result",
          "data": {
            "text/plain": [
              "Text(0.5, 0, 'Dose')"
            ]
          },
          "metadata": {},
          "execution_count": 7
        },
        {
          "output_type": "display_data",
          "data": {
            "text/plain": [
              "<Figure size 432x288 with 1 Axes>"
            ],
            "image/png": "[encoded data removed]"
          },
          "metadata": {}
        }
      ],
      "source": [
        "## create the neural network. \n",
        "model = BasicNN_train() \n",
        "\n",
        "## now run the different doses through the neural network.\n",
        "output_values = model(input_doses)\n",
        "\n",
        "## Now draw a graph that shows the effectiveness for each dose.\n",
        "##\n",
        "## set the style for seaborn so that the graph looks cool.\n",
        "sns.set(style=\"whitegrid\")\n",
        "\n",
        "## create the graph (you might not see it at this point, but you will after we save it as a PDF).\n",
        "sns.lineplot(x=input_doses, \n",
        "             y=output_values.detach(), ## NOTE: because final_bias has a gradident, we call detach() \n",
        "                                       ## to return a new tensor that only has the value and not the gradient.\n",
        "             color='green', \n",
        "             linewidth=2.5)\n",
        "\n",
        "## now label the y- and x-axes.\n",
        "plt.ylabel('Effectiveness')\n",
        "plt.xlabel('Dose')\n",
        "\n",
        "## lastly, save the graph as a PDF.\n",
        "# plt.savefig('BasicNN_train.pdf')"
      ]
    },
    {
      "cell_type": "markdown",
      "id": "willing-wells",
      "metadata": {
        "id": "willing-wells"
      },
      "source": [
        "The graph shows that when the dose is **0.5**, the output from the unoptimized neural network is **17**, which is wrong, since the output value should be **1**. So, now that we have a parameter we can optimize, let's create some training data that we can use to optimize it."
      ]
    },
    {
      "cell_type": "code",
      "execution_count": 8,
      "id": "apparent-nebraska",
      "metadata": {
        "id": "apparent-nebraska"
      },
      "outputs": [],
      "source": [
        "## create the training data for the neural network.\n",
        "inputs = torch.tensor([0., 0.5, 1.])\n",
        "labels = torch.tensor([0., 1., 0.])"
      ]
    },
    {
      "cell_type": "markdown",
      "id": "strange-petite",
      "metadata": {
        "id": "strange-petite"
      },
      "source": [
        "...and now let's use that training data to train (or optimize) `final_bias`."
      ]
    },
    {
      "cell_type": "code",
      "execution_count": 9,
      "id": "boolean-contract",
      "metadata": {
        "id": "boolean-contract",
        "outputId": "e95d1ae8-be9a-449d-9c62-6932bbb4eb6f",
        "colab": {
          "base_uri": "https://localhost:8080/"
        }
      },
      "outputs": [
        {
          "output_type": "stream",
          "name": "stdout",
          "text": [
            "Final bias, before optimization: tensor(0.)\n",
            "\n",
            "Step: 0 Final Bias: tensor(-3.2020)\n",
            "\n",
            "Step: 1 Final Bias: tensor(-5.7636)\n",
            "\n",
            "Step: 2 Final Bias: tensor(-7.8129)\n",
            "\n",
            "Step: 3 Final Bias: tensor(-9.4523)\n",
            "\n",
            "Step: 4 Final Bias: tensor(-10.7638)\n",
            "\n",
            "Step: 5 Final Bias: tensor(-11.8131)\n",
            "\n",
            "Step: 6 Final Bias: tensor(-12.6525)\n",
            "\n",
            "Step: 7 Final Bias: tensor(-13.3240)\n",
            "\n",
            "Step: 8 Final Bias: tensor(-13.8612)\n",
            "\n",
            "Step: 9 Final Bias: tensor(-14.2909)\n",
            "\n",
            "Step: 10 Final Bias: tensor(-14.6348)\n",
            "\n",
            "Step: 11 Final Bias: tensor(-14.9098)\n",
            "\n",
            "Step: 12 Final Bias: tensor(-15.1298)\n",
            "\n",
            "Step: 13 Final Bias: tensor(-15.3059)\n",
            "\n",
            "Step: 14 Final Bias: tensor(-15.4467)\n",
            "\n",
            "Step: 15 Final Bias: tensor(-15.5594)\n",
            "\n",
            "Step: 16 Final Bias: tensor(-15.6495)\n",
            "\n",
            "Step: 17 Final Bias: tensor(-15.7216)\n",
            "\n",
            "Step: 18 Final Bias: tensor(-15.7793)\n",
            "\n",
            "Step: 19 Final Bias: tensor(-15.8254)\n",
            "\n",
            "Step: 20 Final Bias: tensor(-15.8623)\n",
            "\n",
            "Step: 21 Final Bias: tensor(-15.8919)\n",
            "\n",
            "Step: 22 Final Bias: tensor(-15.9155)\n",
            "\n",
            "Step: 23 Final Bias: tensor(-15.9344)\n",
            "\n",
            "Step: 24 Final Bias: tensor(-15.9495)\n",
            "\n",
            "Step: 25 Final Bias: tensor(-15.9616)\n",
            "\n",
            "Step: 26 Final Bias: tensor(-15.9713)\n",
            "\n",
            "Step: 27 Final Bias: tensor(-15.9790)\n",
            "\n",
            "Step: 28 Final Bias: tensor(-15.9852)\n",
            "\n",
            "Step: 29 Final Bias: tensor(-15.9902)\n",
            "\n",
            "Step: 30 Final Bias: tensor(-15.9941)\n",
            "\n",
            "Step: 31 Final Bias: tensor(-15.9973)\n",
            "\n",
            "Step: 32 Final Bias: tensor(-15.9999)\n",
            "\n",
            "Step: 33 Final Bias: tensor(-16.0019)\n",
            "\n",
            "Num steps: 34\n",
            "Total loss: 6.58966600894928e-05\n",
            "Final bias, after optimization: tensor(-16.0019)\n"
          ]
        }
      ],
      "source": [
        "## create the neural network we want to train.\n",
        "model = BasicNN_train()\n",
        "\n",
        "optimizer = SGD(model.parameters(), lr=0.1) ## here we're creating an optimizer to train the neural network.\n",
        "                                            ## NOTE: There are a bunch of different ways to optimize a neural network.\n",
        "                                            ## In this example, we'll use Stochastic Gradient Descent (SGD). However,\n",
        "                                            ## another popular algortihm is Adam (which will be covered in a StatQuest).\n",
        "\n",
        "print(\"Final bias, before optimization: \" + str(model.final_bias.data) + \"\\n\")\n",
        "\n",
        "## this is the optimization loop. Each time the optimizer sees all of the training data is called an \"epoch\".\n",
        "for epoch in range(100):\n",
        "        \n",
        "    ## we create and initialize total_loss for each epoch so that we can evaluate how well model fits the\n",
        "    ## training data. At first, when the model doesn't fit the training data very well, total_loss\n",
        "    ## will be large. However, as gradient descent improves the fit, total_loss will get smaller and smaller.\n",
        "    ## If total_loss gets really small, we can decide that the model fits the data well enough and stop\n",
        "    ## optimizing the fit. Otherwise, we can just keep optimizing until we reach the maximum number of epochs. \n",
        "    total_loss = 0\n",
        "    \n",
        "    ## this internal loop is where the optimizer sees all of the training data and where we \n",
        "    ## calculate the total_loss for all of the training data.\n",
        "    for iteration in range(len(inputs)):\n",
        "        \n",
        "        input_i = inputs[iteration] ## extract a single input value (a single dose)...\n",
        "        label_i = labels[iteration] ## ...and its corresponding label (the effectiveness for the dose).\n",
        "        \n",
        "        output_i = model(input_i) ## calculate the neural network output for the input (the single dose).\n",
        "        \n",
        "        loss = (output_i - label_i)**2 ## calculate the loss for the single value.\n",
        "                                       ## NOTE: Because output_i = model(input_i), \"loss\" has a connection to \"model\"\n",
        "                                       ## and the derivative (calculated in the next step) is kept and accumulated\n",
        "                                       ## in \"model\".\n",
        "        \n",
        "        loss.backward() # backward() calculates the derivative for that single value and adds it to the previous one.\n",
        "        \n",
        "        total_loss += float(loss) # accumulate the total loss for this epoch.\n",
        "        \n",
        "        \n",
        "    if (total_loss < 0.0001):\n",
        "        print(\"Num steps: \" + str(epoch))\n",
        "        break\n",
        "      \n",
        "    optimizer.step() ## take a step toward the optimal value.\n",
        "    optimizer.zero_grad() ## This zeroes out the gradient stored in \"model\". \n",
        "                          ## Remember, by default, gradients are added to the previous step (the gradients are accumulated),\n",
        "                          ## and we took advantage of this process to calculate the derivative one data point at a time.\n",
        "                          ## NOTE: \"optimizer\" has access to \"model\" because of how it was created with the call \n",
        "                          ## (made earlier): optimizer = SGD(model.parameters(), lr=0.1).\n",
        "                          ## ALSO NOTE: Alternatively, we can zero out the gradient with model.zero_grad().\n",
        "    \n",
        "    print(\"Step: \" + str(epoch) + \" Final Bias: \" + str(model.final_bias.data) + \"\\n\")\n",
        "    ## now go back to the start of the loop and go through another epoch.\n",
        "\n",
        "print(\"Total loss: \" + str(total_loss))\n",
        "print(\"Final bias, after optimization: \" + str(model.final_bias.data))"
      ]
    },
    {
      "cell_type": "markdown",
      "id": "hawaiian-athletics",
      "metadata": {
        "id": "hawaiian-athletics"
      },
      "source": [
        "So, if everything worked correctly, the optimizer should have converged on `final_bias = 16.0019` after **34** steps, or epochs. **BAM!**\n",
        "\n",
        "Lastly, let's graph the output from the optimized neural network and see if it's the same as what we started with. If so, then the optimization worked."
      ]
    },
    {
      "cell_type": "code",
      "execution_count": 10,
      "id": "optional-integral",
      "metadata": {
        "id": "optional-integral",
        "outputId": "23d5d127-0168-4010-f6e6-6e1577f9b417",
        "colab": {
          "base_uri": "https://localhost:8080/",
          "height": 302
        }
      },
      "outputs": [
        {
          "output_type": "execute_result",
          "data": {
            "text/plain": [
              "Text(0.5, 0, 'Dose')"
            ]
          },
          "metadata": {},
          "execution_count": 10
        },
        {
          "output_type": "display_data",
          "data": {
            "text/plain": [
              "<Figure size 432x288 with 1 Axes>"
            ],
            "image/png": "[encoded data removed]"
          },
          "metadata": {}
        }
      ],
      "source": [
        "## run the different doses through the neural network\n",
        "output_values = model(input_doses)\n",
        "\n",
        "## set the style for seaborn so that the graph looks cool.\n",
        "sns.set(style=\"whitegrid\")\n",
        "\n",
        "## create the graph (you might not see it at this point, but you will after we save it as a PDF).\n",
        "sns.lineplot(x=input_doses, \n",
        "             y=output_values.detach(), ## NOTE: we call detach() because final_bias has a gradient\n",
        "             color='green', \n",
        "             linewidth=2.5)\n",
        "\n",
        "## now label the y- and x-axes.\n",
        "plt.ylabel('Effectiveness')\n",
        "plt.xlabel('Dose')\n",
        "\n",
        "## lastly, save the graph as a PDF.\n",
        "# plt.savefig('BascNN_optimized.pdf')"
      ]
    },
    {
      "cell_type": "markdown",
      "id": "conditional-engagement",
      "metadata": {
        "id": "conditional-engagement"
      },
      "source": [
        "And we see that the optimized model results in the same graph that we started with, so the optimization worked as expected."
      ]
    },
    {
      "cell_type": "markdown",
      "id": "scheduled-ministry",
      "metadata": {
        "id": "scheduled-ministry"
      },
      "source": [
        "# Triple BAM!!!"
      ]
    }
  ],
  "metadata": {
    "kernelspec": {
      "display_name": "Python 3",
      "language": "python",
      "name": "python3"
    },
    "language_info": {
      "codemirror_mode": {
        "name": "ipython",
        "version": 3
      },
      "file_extension": ".py",
      "mimetype": "text/x-python",
      "name": "python",
      "nbconvert_exporter": "python",
      "pygments_lexer": "ipython3",
      "version": "3.7.6"
    },
    "colab": {
      "provenance": [],
      "include_colab_link": true
    }
  },
  "nbformat": 4,
  "nbformat_minor": 5
}